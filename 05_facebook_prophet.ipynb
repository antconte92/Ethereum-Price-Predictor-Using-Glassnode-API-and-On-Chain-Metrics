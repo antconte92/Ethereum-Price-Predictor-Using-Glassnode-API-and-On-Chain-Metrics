{
 "cells": [
  {
   "cell_type": "markdown",
   "metadata": {},
   "source": [
    "# Facebook Prophet"
   ]
  },
  {
   "cell_type": "code",
   "execution_count": 1,
   "metadata": {},
   "outputs": [],
   "source": [
    "import warnings\n",
    "warnings.filterwarnings('ignore')\n",
    "import pandas as pd \n",
    "import matplotlib.pyplot as plt\n",
    "import matplotlib\n",
    "import seaborn as sns\n",
    "%matplotlib inline\n",
    "from matplotlib.pylab import rcParams\n",
    "plt.style.use('ggplot')\n",
    "import _pickle as pickle\n",
    "import fbprophet\n",
    "from fbprophet import Prophet"
   ]
  },
  {
   "cell_type": "markdown",
   "metadata": {},
   "source": [
    "### Loading in the Data"
   ]
  },
  {
   "cell_type": "code",
   "execution_count": 2,
   "metadata": {},
   "outputs": [],
   "source": [
    "df = pd.read_excel('data/eth_api_data_use.xlsx')"
   ]
  },
  {
   "cell_type": "code",
   "execution_count": 3,
   "metadata": {},
   "outputs": [
    {
     "data": {
      "text/html": [
       "<div>\n",
       "<style scoped>\n",
       "    .dataframe tbody tr th:only-of-type {\n",
       "        vertical-align: middle;\n",
       "    }\n",
       "\n",
       "    .dataframe tbody tr th {\n",
       "        vertical-align: top;\n",
       "    }\n",
       "\n",
       "    .dataframe thead th {\n",
       "        text-align: right;\n",
       "    }\n",
       "</style>\n",
       "<table border=\"1\" class=\"dataframe\">\n",
       "  <thead>\n",
       "    <tr style=\"text-align: right;\">\n",
       "      <th></th>\n",
       "      <th>t</th>\n",
       "      <th>count</th>\n",
       "      <th>sending_count</th>\n",
       "      <th>receiving_count</th>\n",
       "      <th>active_count</th>\n",
       "      <th>new_non_zero_count</th>\n",
       "      <th>block_height</th>\n",
       "      <th>sopr</th>\n",
       "      <th>price_usd_close</th>\n",
       "      <th>marketcap_usd</th>\n",
       "      <th>difficulty_latest</th>\n",
       "      <th>hash_rate_mean</th>\n",
       "    </tr>\n",
       "  </thead>\n",
       "  <tbody>\n",
       "    <tr>\n",
       "      <th>0</th>\n",
       "      <td>2015-08-08</td>\n",
       "      <td>10641</td>\n",
       "      <td>582</td>\n",
       "      <td>439</td>\n",
       "      <td>800</td>\n",
       "      <td>353</td>\n",
       "      <td>55869</td>\n",
       "      <td>0.459823</td>\n",
       "      <td>0.769981</td>\n",
       "      <td>8.983510e+07</td>\n",
       "      <td>1606016380751</td>\n",
       "      <td>9.644985e+10</td>\n",
       "    </tr>\n",
       "    <tr>\n",
       "      <th>1</th>\n",
       "      <td>2015-08-09</td>\n",
       "      <td>10894</td>\n",
       "      <td>457</td>\n",
       "      <td>489</td>\n",
       "      <td>731</td>\n",
       "      <td>253</td>\n",
       "      <td>60992</td>\n",
       "      <td>0.403942</td>\n",
       "      <td>0.719830</td>\n",
       "      <td>5.507245e+07</td>\n",
       "      <td>1741399466631</td>\n",
       "      <td>1.013969e+11</td>\n",
       "    </tr>\n",
       "    <tr>\n",
       "      <th>2</th>\n",
       "      <td>2015-08-10</td>\n",
       "      <td>11543</td>\n",
       "      <td>804</td>\n",
       "      <td>749</td>\n",
       "      <td>997</td>\n",
       "      <td>649</td>\n",
       "      <td>66247</td>\n",
       "      <td>0.360587</td>\n",
       "      <td>0.700705</td>\n",
       "      <td>4.878861e+07</td>\n",
       "      <td>1948102094734</td>\n",
       "      <td>1.116431e+11</td>\n",
       "    </tr>\n",
       "    <tr>\n",
       "      <th>3</th>\n",
       "      <td>2015-08-11</td>\n",
       "      <td>13432</td>\n",
       "      <td>2119</td>\n",
       "      <td>2106</td>\n",
       "      <td>2339</td>\n",
       "      <td>1889</td>\n",
       "      <td>71527</td>\n",
       "      <td>0.614763</td>\n",
       "      <td>1.088361</td>\n",
       "      <td>5.745360e+07</td>\n",
       "      <td>2171897473895</td>\n",
       "      <td>1.240757e+11</td>\n",
       "    </tr>\n",
       "    <tr>\n",
       "      <th>4</th>\n",
       "      <td>2015-08-12</td>\n",
       "      <td>13744</td>\n",
       "      <td>565</td>\n",
       "      <td>673</td>\n",
       "      <td>904</td>\n",
       "      <td>312</td>\n",
       "      <td>76651</td>\n",
       "      <td>0.609176</td>\n",
       "      <td>1.214071</td>\n",
       "      <td>8.079017e+07</td>\n",
       "      <td>2248237602936</td>\n",
       "      <td>1.308930e+11</td>\n",
       "    </tr>\n",
       "    <tr>\n",
       "      <th>...</th>\n",
       "      <td>...</td>\n",
       "      <td>...</td>\n",
       "      <td>...</td>\n",
       "      <td>...</td>\n",
       "      <td>...</td>\n",
       "      <td>...</td>\n",
       "      <td>...</td>\n",
       "      <td>...</td>\n",
       "      <td>...</td>\n",
       "      <td>...</td>\n",
       "      <td>...</td>\n",
       "      <td>...</td>\n",
       "    </tr>\n",
       "    <tr>\n",
       "      <th>2209</th>\n",
       "      <td>2021-08-29</td>\n",
       "      <td>126646738</td>\n",
       "      <td>216340</td>\n",
       "      <td>261453</td>\n",
       "      <td>443638</td>\n",
       "      <td>81015</td>\n",
       "      <td>13123511</td>\n",
       "      <td>1.038184</td>\n",
       "      <td>3232.684457</td>\n",
       "      <td>3.771270e+11</td>\n",
       "      <td>8344135842611030</td>\n",
       "      <td>6.156244e+14</td>\n",
       "    </tr>\n",
       "    <tr>\n",
       "      <th>2210</th>\n",
       "      <td>2021-08-30</td>\n",
       "      <td>126736492</td>\n",
       "      <td>216528</td>\n",
       "      <td>279101</td>\n",
       "      <td>463898</td>\n",
       "      <td>89754</td>\n",
       "      <td>13129983</td>\n",
       "      <td>1.054713</td>\n",
       "      <td>3236.705129</td>\n",
       "      <td>3.779495e+11</td>\n",
       "      <td>8363391489903990</td>\n",
       "      <td>6.243794e+14</td>\n",
       "    </tr>\n",
       "    <tr>\n",
       "      <th>2211</th>\n",
       "      <td>2021-08-31</td>\n",
       "      <td>126832691</td>\n",
       "      <td>232263</td>\n",
       "      <td>294382</td>\n",
       "      <td>489456</td>\n",
       "      <td>96199</td>\n",
       "      <td>13136426</td>\n",
       "      <td>1.068187</td>\n",
       "      <td>3440.253672</td>\n",
       "      <td>3.918475e+11</td>\n",
       "      <td>8409844260273910</td>\n",
       "      <td>6.290792e+14</td>\n",
       "    </tr>\n",
       "    <tr>\n",
       "      <th>2212</th>\n",
       "      <td>2021-09-01</td>\n",
       "      <td>126936884</td>\n",
       "      <td>233412</td>\n",
       "      <td>306440</td>\n",
       "      <td>505920</td>\n",
       "      <td>104193</td>\n",
       "      <td>13142881</td>\n",
       "      <td>1.114021</td>\n",
       "      <td>3799.940179</td>\n",
       "      <td>4.195039e+11</td>\n",
       "      <td>8261844770140400</td>\n",
       "      <td>6.207080e+14</td>\n",
       "    </tr>\n",
       "    <tr>\n",
       "      <th>2213</th>\n",
       "      <td>2021-09-02</td>\n",
       "      <td>127045785</td>\n",
       "      <td>243246</td>\n",
       "      <td>309822</td>\n",
       "      <td>518096</td>\n",
       "      <td>108901</td>\n",
       "      <td>13149422</td>\n",
       "      <td>1.093690</td>\n",
       "      <td>3792.519107</td>\n",
       "      <td>4.428463e+11</td>\n",
       "      <td>8728753920436170</td>\n",
       "      <td>6.449494e+14</td>\n",
       "    </tr>\n",
       "  </tbody>\n",
       "</table>\n",
       "<p>2214 rows × 12 columns</p>\n",
       "</div>"
      ],
      "text/plain": [
       "              t      count  sending_count  receiving_count  active_count  \\\n",
       "0    2015-08-08      10641            582              439           800   \n",
       "1    2015-08-09      10894            457              489           731   \n",
       "2    2015-08-10      11543            804              749           997   \n",
       "3    2015-08-11      13432           2119             2106          2339   \n",
       "4    2015-08-12      13744            565              673           904   \n",
       "...         ...        ...            ...              ...           ...   \n",
       "2209 2021-08-29  126646738         216340           261453        443638   \n",
       "2210 2021-08-30  126736492         216528           279101        463898   \n",
       "2211 2021-08-31  126832691         232263           294382        489456   \n",
       "2212 2021-09-01  126936884         233412           306440        505920   \n",
       "2213 2021-09-02  127045785         243246           309822        518096   \n",
       "\n",
       "      new_non_zero_count  block_height      sopr  price_usd_close  \\\n",
       "0                    353         55869  0.459823         0.769981   \n",
       "1                    253         60992  0.403942         0.719830   \n",
       "2                    649         66247  0.360587         0.700705   \n",
       "3                   1889         71527  0.614763         1.088361   \n",
       "4                    312         76651  0.609176         1.214071   \n",
       "...                  ...           ...       ...              ...   \n",
       "2209               81015      13123511  1.038184      3232.684457   \n",
       "2210               89754      13129983  1.054713      3236.705129   \n",
       "2211               96199      13136426  1.068187      3440.253672   \n",
       "2212              104193      13142881  1.114021      3799.940179   \n",
       "2213              108901      13149422  1.093690      3792.519107   \n",
       "\n",
       "      marketcap_usd  difficulty_latest  hash_rate_mean  \n",
       "0      8.983510e+07      1606016380751    9.644985e+10  \n",
       "1      5.507245e+07      1741399466631    1.013969e+11  \n",
       "2      4.878861e+07      1948102094734    1.116431e+11  \n",
       "3      5.745360e+07      2171897473895    1.240757e+11  \n",
       "4      8.079017e+07      2248237602936    1.308930e+11  \n",
       "...             ...                ...             ...  \n",
       "2209   3.771270e+11   8344135842611030    6.156244e+14  \n",
       "2210   3.779495e+11   8363391489903990    6.243794e+14  \n",
       "2211   3.918475e+11   8409844260273910    6.290792e+14  \n",
       "2212   4.195039e+11   8261844770140400    6.207080e+14  \n",
       "2213   4.428463e+11   8728753920436170    6.449494e+14  \n",
       "\n",
       "[2214 rows x 12 columns]"
      ]
     },
     "execution_count": 3,
     "metadata": {},
     "output_type": "execute_result"
    }
   ],
   "source": [
    "df"
   ]
  },
  {
   "cell_type": "code",
   "execution_count": 4,
   "metadata": {},
   "outputs": [],
   "source": [
    "df.rename(columns={'t': 'ds', 'price_usd_close': 'y'}, inplace=True)"
   ]
  },
  {
   "cell_type": "code",
   "execution_count": 5,
   "metadata": {},
   "outputs": [
    {
     "data": {
      "text/html": [
       "<div>\n",
       "<style scoped>\n",
       "    .dataframe tbody tr th:only-of-type {\n",
       "        vertical-align: middle;\n",
       "    }\n",
       "\n",
       "    .dataframe tbody tr th {\n",
       "        vertical-align: top;\n",
       "    }\n",
       "\n",
       "    .dataframe thead th {\n",
       "        text-align: right;\n",
       "    }\n",
       "</style>\n",
       "<table border=\"1\" class=\"dataframe\">\n",
       "  <thead>\n",
       "    <tr style=\"text-align: right;\">\n",
       "      <th></th>\n",
       "      <th>ds</th>\n",
       "      <th>count</th>\n",
       "      <th>sending_count</th>\n",
       "      <th>receiving_count</th>\n",
       "      <th>active_count</th>\n",
       "      <th>new_non_zero_count</th>\n",
       "      <th>block_height</th>\n",
       "      <th>sopr</th>\n",
       "      <th>y</th>\n",
       "      <th>marketcap_usd</th>\n",
       "      <th>difficulty_latest</th>\n",
       "      <th>hash_rate_mean</th>\n",
       "    </tr>\n",
       "  </thead>\n",
       "  <tbody>\n",
       "    <tr>\n",
       "      <th>0</th>\n",
       "      <td>2015-08-08</td>\n",
       "      <td>10641</td>\n",
       "      <td>582</td>\n",
       "      <td>439</td>\n",
       "      <td>800</td>\n",
       "      <td>353</td>\n",
       "      <td>55869</td>\n",
       "      <td>0.459823</td>\n",
       "      <td>0.769981</td>\n",
       "      <td>8.983510e+07</td>\n",
       "      <td>1606016380751</td>\n",
       "      <td>9.644985e+10</td>\n",
       "    </tr>\n",
       "    <tr>\n",
       "      <th>1</th>\n",
       "      <td>2015-08-09</td>\n",
       "      <td>10894</td>\n",
       "      <td>457</td>\n",
       "      <td>489</td>\n",
       "      <td>731</td>\n",
       "      <td>253</td>\n",
       "      <td>60992</td>\n",
       "      <td>0.403942</td>\n",
       "      <td>0.719830</td>\n",
       "      <td>5.507245e+07</td>\n",
       "      <td>1741399466631</td>\n",
       "      <td>1.013969e+11</td>\n",
       "    </tr>\n",
       "    <tr>\n",
       "      <th>2</th>\n",
       "      <td>2015-08-10</td>\n",
       "      <td>11543</td>\n",
       "      <td>804</td>\n",
       "      <td>749</td>\n",
       "      <td>997</td>\n",
       "      <td>649</td>\n",
       "      <td>66247</td>\n",
       "      <td>0.360587</td>\n",
       "      <td>0.700705</td>\n",
       "      <td>4.878861e+07</td>\n",
       "      <td>1948102094734</td>\n",
       "      <td>1.116431e+11</td>\n",
       "    </tr>\n",
       "    <tr>\n",
       "      <th>3</th>\n",
       "      <td>2015-08-11</td>\n",
       "      <td>13432</td>\n",
       "      <td>2119</td>\n",
       "      <td>2106</td>\n",
       "      <td>2339</td>\n",
       "      <td>1889</td>\n",
       "      <td>71527</td>\n",
       "      <td>0.614763</td>\n",
       "      <td>1.088361</td>\n",
       "      <td>5.745360e+07</td>\n",
       "      <td>2171897473895</td>\n",
       "      <td>1.240757e+11</td>\n",
       "    </tr>\n",
       "    <tr>\n",
       "      <th>4</th>\n",
       "      <td>2015-08-12</td>\n",
       "      <td>13744</td>\n",
       "      <td>565</td>\n",
       "      <td>673</td>\n",
       "      <td>904</td>\n",
       "      <td>312</td>\n",
       "      <td>76651</td>\n",
       "      <td>0.609176</td>\n",
       "      <td>1.214071</td>\n",
       "      <td>8.079017e+07</td>\n",
       "      <td>2248237602936</td>\n",
       "      <td>1.308930e+11</td>\n",
       "    </tr>\n",
       "    <tr>\n",
       "      <th>...</th>\n",
       "      <td>...</td>\n",
       "      <td>...</td>\n",
       "      <td>...</td>\n",
       "      <td>...</td>\n",
       "      <td>...</td>\n",
       "      <td>...</td>\n",
       "      <td>...</td>\n",
       "      <td>...</td>\n",
       "      <td>...</td>\n",
       "      <td>...</td>\n",
       "      <td>...</td>\n",
       "      <td>...</td>\n",
       "    </tr>\n",
       "    <tr>\n",
       "      <th>2209</th>\n",
       "      <td>2021-08-29</td>\n",
       "      <td>126646738</td>\n",
       "      <td>216340</td>\n",
       "      <td>261453</td>\n",
       "      <td>443638</td>\n",
       "      <td>81015</td>\n",
       "      <td>13123511</td>\n",
       "      <td>1.038184</td>\n",
       "      <td>3232.684457</td>\n",
       "      <td>3.771270e+11</td>\n",
       "      <td>8344135842611030</td>\n",
       "      <td>6.156244e+14</td>\n",
       "    </tr>\n",
       "    <tr>\n",
       "      <th>2210</th>\n",
       "      <td>2021-08-30</td>\n",
       "      <td>126736492</td>\n",
       "      <td>216528</td>\n",
       "      <td>279101</td>\n",
       "      <td>463898</td>\n",
       "      <td>89754</td>\n",
       "      <td>13129983</td>\n",
       "      <td>1.054713</td>\n",
       "      <td>3236.705129</td>\n",
       "      <td>3.779495e+11</td>\n",
       "      <td>8363391489903990</td>\n",
       "      <td>6.243794e+14</td>\n",
       "    </tr>\n",
       "    <tr>\n",
       "      <th>2211</th>\n",
       "      <td>2021-08-31</td>\n",
       "      <td>126832691</td>\n",
       "      <td>232263</td>\n",
       "      <td>294382</td>\n",
       "      <td>489456</td>\n",
       "      <td>96199</td>\n",
       "      <td>13136426</td>\n",
       "      <td>1.068187</td>\n",
       "      <td>3440.253672</td>\n",
       "      <td>3.918475e+11</td>\n",
       "      <td>8409844260273910</td>\n",
       "      <td>6.290792e+14</td>\n",
       "    </tr>\n",
       "    <tr>\n",
       "      <th>2212</th>\n",
       "      <td>2021-09-01</td>\n",
       "      <td>126936884</td>\n",
       "      <td>233412</td>\n",
       "      <td>306440</td>\n",
       "      <td>505920</td>\n",
       "      <td>104193</td>\n",
       "      <td>13142881</td>\n",
       "      <td>1.114021</td>\n",
       "      <td>3799.940179</td>\n",
       "      <td>4.195039e+11</td>\n",
       "      <td>8261844770140400</td>\n",
       "      <td>6.207080e+14</td>\n",
       "    </tr>\n",
       "    <tr>\n",
       "      <th>2213</th>\n",
       "      <td>2021-09-02</td>\n",
       "      <td>127045785</td>\n",
       "      <td>243246</td>\n",
       "      <td>309822</td>\n",
       "      <td>518096</td>\n",
       "      <td>108901</td>\n",
       "      <td>13149422</td>\n",
       "      <td>1.093690</td>\n",
       "      <td>3792.519107</td>\n",
       "      <td>4.428463e+11</td>\n",
       "      <td>8728753920436170</td>\n",
       "      <td>6.449494e+14</td>\n",
       "    </tr>\n",
       "  </tbody>\n",
       "</table>\n",
       "<p>2214 rows × 12 columns</p>\n",
       "</div>"
      ],
      "text/plain": [
       "             ds      count  sending_count  receiving_count  active_count  \\\n",
       "0    2015-08-08      10641            582              439           800   \n",
       "1    2015-08-09      10894            457              489           731   \n",
       "2    2015-08-10      11543            804              749           997   \n",
       "3    2015-08-11      13432           2119             2106          2339   \n",
       "4    2015-08-12      13744            565              673           904   \n",
       "...         ...        ...            ...              ...           ...   \n",
       "2209 2021-08-29  126646738         216340           261453        443638   \n",
       "2210 2021-08-30  126736492         216528           279101        463898   \n",
       "2211 2021-08-31  126832691         232263           294382        489456   \n",
       "2212 2021-09-01  126936884         233412           306440        505920   \n",
       "2213 2021-09-02  127045785         243246           309822        518096   \n",
       "\n",
       "      new_non_zero_count  block_height      sopr            y  marketcap_usd  \\\n",
       "0                    353         55869  0.459823     0.769981   8.983510e+07   \n",
       "1                    253         60992  0.403942     0.719830   5.507245e+07   \n",
       "2                    649         66247  0.360587     0.700705   4.878861e+07   \n",
       "3                   1889         71527  0.614763     1.088361   5.745360e+07   \n",
       "4                    312         76651  0.609176     1.214071   8.079017e+07   \n",
       "...                  ...           ...       ...          ...            ...   \n",
       "2209               81015      13123511  1.038184  3232.684457   3.771270e+11   \n",
       "2210               89754      13129983  1.054713  3236.705129   3.779495e+11   \n",
       "2211               96199      13136426  1.068187  3440.253672   3.918475e+11   \n",
       "2212              104193      13142881  1.114021  3799.940179   4.195039e+11   \n",
       "2213              108901      13149422  1.093690  3792.519107   4.428463e+11   \n",
       "\n",
       "      difficulty_latest  hash_rate_mean  \n",
       "0         1606016380751    9.644985e+10  \n",
       "1         1741399466631    1.013969e+11  \n",
       "2         1948102094734    1.116431e+11  \n",
       "3         2171897473895    1.240757e+11  \n",
       "4         2248237602936    1.308930e+11  \n",
       "...                 ...             ...  \n",
       "2209   8344135842611030    6.156244e+14  \n",
       "2210   8363391489903990    6.243794e+14  \n",
       "2211   8409844260273910    6.290792e+14  \n",
       "2212   8261844770140400    6.207080e+14  \n",
       "2213   8728753920436170    6.449494e+14  \n",
       "\n",
       "[2214 rows x 12 columns]"
      ]
     },
     "execution_count": 5,
     "metadata": {},
     "output_type": "execute_result"
    }
   ],
   "source": [
    "df"
   ]
  },
  {
   "cell_type": "code",
   "execution_count": null,
   "metadata": {},
   "outputs": [],
   "source": [
    "df.reset_index(inplace=True)"
   ]
  },
  {
   "cell_type": "code",
   "execution_count": null,
   "metadata": {},
   "outputs": [],
   "source": [
    "df"
   ]
  },
  {
   "cell_type": "code",
   "execution_count": null,
   "metadata": {},
   "outputs": [],
   "source": [
    "df[['ds', 'y']] = df[['t', 'price_usd_close']] # Setting up naming convention for prophet"
   ]
  },
  {
   "cell_type": "code",
   "execution_count": null,
   "metadata": {},
   "outputs": [],
   "source": [
    "df.set_index('t', inplace=True) # resetting the index to let date be it's own feature"
   ]
  },
  {
   "cell_type": "code",
   "execution_count": null,
   "metadata": {},
   "outputs": [],
   "source": [
    "df"
   ]
  },
  {
   "cell_type": "code",
   "execution_count": null,
   "metadata": {},
   "outputs": [],
   "source": [
    "# df[['ds', 'y']] = df[['t', 'price_usd_close']] # Setting up naming convention for prophet"
   ]
  },
  {
   "cell_type": "code",
   "execution_count": null,
   "metadata": {},
   "outputs": [],
   "source": [
    "model = Prophet() # initializing the prophet model"
   ]
  },
  {
   "cell_type": "code",
   "execution_count": null,
   "metadata": {},
   "outputs": [],
   "source": [
    "model.fit(df)"
   ]
  },
  {
   "cell_type": "code",
   "execution_count": null,
   "metadata": {},
   "outputs": [],
   "source": [
    "future = model.make_future_dataframe(30) # Setting up variable for making prediction for 1 year\n"
   ]
  },
  {
   "cell_type": "code",
   "execution_count": null,
   "metadata": {},
   "outputs": [],
   "source": [
    "forecast = model.predict(future) # making the predictions"
   ]
  },
  {
   "cell_type": "code",
   "execution_count": null,
   "metadata": {},
   "outputs": [],
   "source": [
    "forecast"
   ]
  },
  {
   "cell_type": "code",
   "execution_count": null,
   "metadata": {},
   "outputs": [],
   "source": [
    "model.plot(forecast) # plotting the predictions"
   ]
  },
  {
   "cell_type": "code",
   "execution_count": null,
   "metadata": {},
   "outputs": [],
   "source": [
    "from prophet.diagnostics import performance_metrics\n",
    "forcast = performance_metrics(df) # Checking overall how it did and the RMSE\n",
    "forcast.head()"
   ]
  },
  {
   "cell_type": "code",
   "execution_count": null,
   "metadata": {},
   "outputs": [],
   "source": []
  },
  {
   "cell_type": "code",
   "execution_count": null,
   "metadata": {},
   "outputs": [],
   "source": []
  },
  {
   "cell_type": "code",
   "execution_count": null,
   "metadata": {},
   "outputs": [],
   "source": []
  },
  {
   "cell_type": "markdown",
   "metadata": {},
   "source": [
    "### Formatting Data for FB Prophet"
   ]
  },
  {
   "cell_type": "code",
   "execution_count": null,
   "metadata": {},
   "outputs": [],
   "source": [
    "# Resetting the index back so Dates are no longer indexed\n",
    "ts.reset_index(inplace=True)\n",
    "\n",
    "# Renaming the columns for use in FB prophet\n",
    "ts.rename(columns={'Date': 'ds', 'Close': 'y'}, inplace=True)\n",
    "\n",
    "ts.head()"
   ]
  },
  {
   "cell_type": "markdown",
   "metadata": {},
   "source": [
    "### Visuals"
   ]
  },
  {
   "cell_type": "code",
   "execution_count": null,
   "metadata": {},
   "outputs": [],
   "source": [
    "# Plotting the price \n",
    "pd.plotting.register_matplotlib_converters()\n",
    "\n",
    "ax = ts.set_index('ds').plot(figsize=(16,8))\n",
    "ax.set_ylabel('Bitcoin Price')\n",
    "ax.set_xlabel('Date')\n",
    "\n",
    "plt.show()"
   ]
  },
  {
   "cell_type": "code",
   "execution_count": null,
   "metadata": {},
   "outputs": [],
   "source": []
  },
  {
   "cell_type": "code",
   "execution_count": null,
   "metadata": {},
   "outputs": [],
   "source": []
  },
  {
   "cell_type": "code",
   "execution_count": null,
   "metadata": {},
   "outputs": [],
   "source": []
  },
  {
   "cell_type": "markdown",
   "metadata": {},
   "source": [
    "### Modeling"
   ]
  },
  {
   "cell_type": "code",
   "execution_count": null,
   "metadata": {},
   "outputs": [],
   "source": [
    "# Fitting and training\n",
    "mod = proph(interval_width=0.95)\n",
    "mod.fit(ts)"
   ]
  },
  {
   "cell_type": "code",
   "execution_count": null,
   "metadata": {},
   "outputs": [],
   "source": []
  },
  {
   "cell_type": "markdown",
   "metadata": {},
   "source": [
    "### Creating Future Dates for Forecasting"
   ]
  },
  {
   "cell_type": "code",
   "execution_count": null,
   "metadata": {},
   "outputs": [],
   "source": [
    "# Setting up predictions to be made\n",
    "future = mod.make_future_dataframe(periods=30, freq='D')\n",
    "future.tail()"
   ]
  },
  {
   "cell_type": "code",
   "execution_count": null,
   "metadata": {},
   "outputs": [],
   "source": []
  },
  {
   "cell_type": "markdown",
   "metadata": {},
   "source": [
    "### Forecasting Future Values"
   ]
  },
  {
   "cell_type": "code",
   "execution_count": null,
   "metadata": {},
   "outputs": [],
   "source": [
    "# Making predictions\n",
    "forecast = mod.predict(future)\n",
    "forecast.tail()"
   ]
  },
  {
   "cell_type": "code",
   "execution_count": null,
   "metadata": {},
   "outputs": [],
   "source": []
  },
  {
   "cell_type": "code",
   "execution_count": null,
   "metadata": {},
   "outputs": [],
   "source": []
  },
  {
   "cell_type": "markdown",
   "metadata": {},
   "source": [
    "### Plotting Values"
   ]
  },
  {
   "cell_type": "code",
   "execution_count": null,
   "metadata": {},
   "outputs": [],
   "source": [
    "mod.plot(forecast, uncertainty=True)\n",
    "plt.title('Facebook Prophet Forecast and Fitting')\n",
    "plt.savefig('fb_fc_fit.png')\n",
    "plt.show()"
   ]
  },
  {
   "cell_type": "code",
   "execution_count": null,
   "metadata": {},
   "outputs": [],
   "source": []
  },
  {
   "cell_type": "markdown",
   "metadata": {},
   "source": [
    "### Plotted Components for the Forecast"
   ]
  },
  {
   "cell_type": "code",
   "execution_count": null,
   "metadata": {},
   "outputs": [],
   "source": [
    "mod.plot_components(forecast)\n",
    "plt.show()"
   ]
  }
 ],
 "metadata": {
  "kernelspec": {
   "display_name": "Python 3",
   "language": "python",
   "name": "python3"
  },
  "language_info": {
   "codemirror_mode": {
    "name": "ipython",
    "version": 3
   },
   "file_extension": ".py",
   "mimetype": "text/x-python",
   "name": "python",
   "nbconvert_exporter": "python",
   "pygments_lexer": "ipython3",
   "version": "3.8.5"
  }
 },
 "nbformat": 4,
 "nbformat_minor": 4
}
