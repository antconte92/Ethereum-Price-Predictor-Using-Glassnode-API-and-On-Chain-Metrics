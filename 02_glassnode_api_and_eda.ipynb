{
 "cells": [
  {
   "cell_type": "code",
   "execution_count": 76,
   "metadata": {},
   "outputs": [],
   "source": [
    "import pandas as pd\n",
    "import numpy as np\n",
    "import datetime as dt\n",
    "import warnings\n",
    "from functools import reduce\n",
    "\n",
    "from random import gauss as gs\n",
    "import pandas as pd\n",
    "import numpy as np\n",
    "import matplotlib.pyplot as plt\n",
    "from sklearn.metrics import mean_squared_error\n",
    "from sklearn.linear_model import LinearRegression\n",
    "from sklearn.model_selection import train_test_split\n",
    "from sklearn.model_selection import cross_validate\n",
    "from statsmodels.stats.outliers_influence import variance_inflation_factor\n",
    "\n",
    "import itertools\n",
    "#from pmdarima import auto_arima\n",
    "\n",
    "#statsmodels\n",
    "from statsmodels.tsa.arima.model import ARIMA\n",
    "from statsmodels.tsa.stattools import acf, pacf\n",
    "from statsmodels.graphics.tsaplots import plot_acf, plot_pacf\n",
    "from statsmodels.tsa.statespace.sarimax import SARIMAX\n",
    "\n",
    "%matplotlib inline\n",
    "warnings.filterwarnings(\"ignore\")\n",
    "\n",
    "# imports\n",
    "import json\n",
    "import requests\n",
    "import pandas as pd\n",
    "import numpy as np\n",
    "import seaborn as sns\n",
    "import os\n",
    "\n",
    "from timeit import default_timer"
   ]
  },
  {
   "cell_type": "code",
   "execution_count": 2,
   "metadata": {},
   "outputs": [],
   "source": [
    "# insert API key here\n",
    "API_KEY = '1vXKptlEX84OoMidufyRXLtNDSg'"
   ]
  },
  {
   "cell_type": "code",
   "execution_count": 4,
   "metadata": {},
   "outputs": [],
   "source": [
    "urls = ['https://api.glassnode.com/v1/metrics/addresses/count',\n",
    "'https://api.glassnode.com/v1/metrics/addresses/sending_count',\n",
    "'https://api.glassnode.com/v1/metrics/addresses/receiving_count',\n",
    "'https://api.glassnode.com/v1/metrics/addresses/active_count',\n",
    "'https://api.glassnode.com/v1/metrics/addresses/new_non_zero_count',\n",
    "'https://api.glassnode.com/v1/metrics/blockchain/block_height',\n",
    "'https://api.glassnode.com/v1/metrics/indicators/sopr',\n",
    "'https://api.glassnode.com/v1/metrics/market/price_usd_close',\n",
    "'https://api.glassnode.com/v1/metrics/market/marketcap_usd',\n",
    "'https://api.glassnode.com/v1/metrics/mining/difficulty_latest',\n",
    "'https://api.glassnode.com/v1/metrics/mining/hash_rate_mean']"
   ]
  },
  {
   "cell_type": "code",
   "execution_count": 5,
   "metadata": {},
   "outputs": [
    {
     "data": {
      "text/plain": [
       "11"
      ]
     },
     "execution_count": 5,
     "metadata": {},
     "output_type": "execute_result"
    }
   ],
   "source": [
    "len(urls)"
   ]
  },
  {
   "cell_type": "code",
   "execution_count": 47,
   "metadata": {},
   "outputs": [],
   "source": [
    "data = []\n",
    "for url in urls:\n",
    "  label = url.split('/')[-1]\n",
    "      \n",
    "  # make API request\n",
    "  res = requests.get(url, params={'a': 'ETH'\n",
    "                                  ,'api_key': API_KEY})\n",
    "  # convert to pandas dataframe\n",
    "  df = pd.read_json(res.text, convert_dates=['t'])\n",
    "  df.set_index('t', inplace = True)\n",
    "  df.rename(columns={'v':label}, inplace=True)\n",
    "  data.append(df)\n"
   ]
  },
  {
   "cell_type": "code",
   "execution_count": 1,
   "metadata": {},
   "outputs": [
    {
     "ename": "NameError",
     "evalue": "name 'data' is not defined",
     "output_type": "error",
     "traceback": [
      "\u001b[0;31m---------------------------------------------------------------------------\u001b[0m",
      "\u001b[0;31mNameError\u001b[0m                                 Traceback (most recent call last)",
      "\u001b[0;32m<ipython-input-1-5db80265498c>\u001b[0m in \u001b[0;36m<module>\u001b[0;34m\u001b[0m\n\u001b[1;32m      1\u001b[0m \u001b[0;31m## Inspecting one dataframe from list of results\u001b[0m\u001b[0;34m\u001b[0m\u001b[0;34m\u001b[0m\u001b[0;34m\u001b[0m\u001b[0m\n\u001b[0;32m----> 2\u001b[0;31m \u001b[0mdata\u001b[0m\u001b[0;34m[\u001b[0m\u001b[0;36m7\u001b[0m\u001b[0;34m]\u001b[0m\u001b[0;34m\u001b[0m\u001b[0;34m\u001b[0m\u001b[0m\n\u001b[0m",
      "\u001b[0;31mNameError\u001b[0m: name 'data' is not defined"
     ]
    }
   ],
   "source": [
    "## Inspecting one dataframe from list of results\n",
    "data[7]"
   ]
  },
  {
   "cell_type": "code",
   "execution_count": 54,
   "metadata": {},
   "outputs": [
    {
     "data": {
      "text/html": [
       "<div>\n",
       "<style scoped>\n",
       "    .dataframe tbody tr th:only-of-type {\n",
       "        vertical-align: middle;\n",
       "    }\n",
       "\n",
       "    .dataframe tbody tr th {\n",
       "        vertical-align: top;\n",
       "    }\n",
       "\n",
       "    .dataframe thead th {\n",
       "        text-align: right;\n",
       "    }\n",
       "</style>\n",
       "<table border=\"1\" class=\"dataframe\">\n",
       "  <thead>\n",
       "    <tr style=\"text-align: right;\">\n",
       "      <th></th>\n",
       "      <th>count</th>\n",
       "      <th>sending_count</th>\n",
       "      <th>receiving_count</th>\n",
       "      <th>active_count</th>\n",
       "      <th>new_non_zero_count</th>\n",
       "      <th>block_height</th>\n",
       "      <th>sopr</th>\n",
       "      <th>price_usd_close</th>\n",
       "      <th>marketcap_usd</th>\n",
       "      <th>difficulty_latest</th>\n",
       "      <th>hash_rate_mean</th>\n",
       "    </tr>\n",
       "    <tr>\n",
       "      <th>t</th>\n",
       "      <th></th>\n",
       "      <th></th>\n",
       "      <th></th>\n",
       "      <th></th>\n",
       "      <th></th>\n",
       "      <th></th>\n",
       "      <th></th>\n",
       "      <th></th>\n",
       "      <th></th>\n",
       "      <th></th>\n",
       "      <th></th>\n",
       "    </tr>\n",
       "  </thead>\n",
       "  <tbody>\n",
       "    <tr>\n",
       "      <th>2015-07-30</th>\n",
       "      <td>9203.0</td>\n",
       "      <td>0.0</td>\n",
       "      <td>0.0</td>\n",
       "      <td>0.0</td>\n",
       "      <td>9203.0</td>\n",
       "      <td>6911.0</td>\n",
       "      <td>NaN</td>\n",
       "      <td>NaN</td>\n",
       "      <td>NaN</td>\n",
       "      <td>3.382792e+11</td>\n",
       "      <td>1.910758e+10</td>\n",
       "    </tr>\n",
       "    <tr>\n",
       "      <th>2015-07-31</th>\n",
       "      <td>9359.0</td>\n",
       "      <td>0.0</td>\n",
       "      <td>0.0</td>\n",
       "      <td>0.0</td>\n",
       "      <td>156.0</td>\n",
       "      <td>13774.0</td>\n",
       "      <td>NaN</td>\n",
       "      <td>NaN</td>\n",
       "      <td>NaN</td>\n",
       "      <td>8.231927e+11</td>\n",
       "      <td>4.679999e+10</td>\n",
       "    </tr>\n",
       "    <tr>\n",
       "      <th>2015-08-01</th>\n",
       "      <td>9474.0</td>\n",
       "      <td>0.0</td>\n",
       "      <td>0.0</td>\n",
       "      <td>0.0</td>\n",
       "      <td>115.0</td>\n",
       "      <td>19067.0</td>\n",
       "      <td>NaN</td>\n",
       "      <td>NaN</td>\n",
       "      <td>NaN</td>\n",
       "      <td>9.566506e+11</td>\n",
       "      <td>5.421432e+10</td>\n",
       "    </tr>\n",
       "    <tr>\n",
       "      <th>2015-08-02</th>\n",
       "      <td>9561.0</td>\n",
       "      <td>0.0</td>\n",
       "      <td>0.0</td>\n",
       "      <td>0.0</td>\n",
       "      <td>87.0</td>\n",
       "      <td>24425.0</td>\n",
       "      <td>NaN</td>\n",
       "      <td>NaN</td>\n",
       "      <td>NaN</td>\n",
       "      <td>1.102546e+12</td>\n",
       "      <td>6.315518e+10</td>\n",
       "    </tr>\n",
       "    <tr>\n",
       "      <th>2015-08-03</th>\n",
       "      <td>9637.0</td>\n",
       "      <td>0.0</td>\n",
       "      <td>0.0</td>\n",
       "      <td>0.0</td>\n",
       "      <td>76.0</td>\n",
       "      <td>29705.0</td>\n",
       "      <td>NaN</td>\n",
       "      <td>NaN</td>\n",
       "      <td>NaN</td>\n",
       "      <td>1.154732e+12</td>\n",
       "      <td>6.876058e+10</td>\n",
       "    </tr>\n",
       "    <tr>\n",
       "      <th>...</th>\n",
       "      <td>...</td>\n",
       "      <td>...</td>\n",
       "      <td>...</td>\n",
       "      <td>...</td>\n",
       "      <td>...</td>\n",
       "      <td>...</td>\n",
       "      <td>...</td>\n",
       "      <td>...</td>\n",
       "      <td>...</td>\n",
       "      <td>...</td>\n",
       "      <td>...</td>\n",
       "    </tr>\n",
       "    <tr>\n",
       "      <th>2021-08-28</th>\n",
       "      <td>126565723.0</td>\n",
       "      <td>218007.0</td>\n",
       "      <td>270534.0</td>\n",
       "      <td>458169.0</td>\n",
       "      <td>82525.0</td>\n",
       "      <td>13117022.0</td>\n",
       "      <td>1.045690</td>\n",
       "      <td>3243.091440</td>\n",
       "      <td>3.805415e+11</td>\n",
       "      <td>8.349154e+15</td>\n",
       "      <td>6.130445e+14</td>\n",
       "    </tr>\n",
       "    <tr>\n",
       "      <th>2021-08-29</th>\n",
       "      <td>126646738.0</td>\n",
       "      <td>216340.0</td>\n",
       "      <td>261453.0</td>\n",
       "      <td>443638.0</td>\n",
       "      <td>81015.0</td>\n",
       "      <td>13123511.0</td>\n",
       "      <td>1.038184</td>\n",
       "      <td>3232.684457</td>\n",
       "      <td>3.771270e+11</td>\n",
       "      <td>8.344136e+15</td>\n",
       "      <td>6.156244e+14</td>\n",
       "    </tr>\n",
       "    <tr>\n",
       "      <th>2021-08-30</th>\n",
       "      <td>126736492.0</td>\n",
       "      <td>216528.0</td>\n",
       "      <td>279101.0</td>\n",
       "      <td>463898.0</td>\n",
       "      <td>89754.0</td>\n",
       "      <td>13129983.0</td>\n",
       "      <td>1.054713</td>\n",
       "      <td>3236.705129</td>\n",
       "      <td>3.779495e+11</td>\n",
       "      <td>8.363391e+15</td>\n",
       "      <td>6.243794e+14</td>\n",
       "    </tr>\n",
       "    <tr>\n",
       "      <th>2021-08-31</th>\n",
       "      <td>126832691.0</td>\n",
       "      <td>232263.0</td>\n",
       "      <td>294382.0</td>\n",
       "      <td>489456.0</td>\n",
       "      <td>96199.0</td>\n",
       "      <td>13136426.0</td>\n",
       "      <td>1.068187</td>\n",
       "      <td>3440.253672</td>\n",
       "      <td>3.918475e+11</td>\n",
       "      <td>8.409844e+15</td>\n",
       "      <td>6.290792e+14</td>\n",
       "    </tr>\n",
       "    <tr>\n",
       "      <th>2021-09-01</th>\n",
       "      <td>NaN</td>\n",
       "      <td>NaN</td>\n",
       "      <td>NaN</td>\n",
       "      <td>NaN</td>\n",
       "      <td>NaN</td>\n",
       "      <td>NaN</td>\n",
       "      <td>NaN</td>\n",
       "      <td>3532.053746</td>\n",
       "      <td>NaN</td>\n",
       "      <td>NaN</td>\n",
       "      <td>NaN</td>\n",
       "    </tr>\n",
       "  </tbody>\n",
       "</table>\n",
       "<p>2226 rows × 11 columns</p>\n",
       "</div>"
      ],
      "text/plain": [
       "                  count  sending_count  receiving_count  active_count  \\\n",
       "t                                                                       \n",
       "2015-07-30       9203.0            0.0              0.0           0.0   \n",
       "2015-07-31       9359.0            0.0              0.0           0.0   \n",
       "2015-08-01       9474.0            0.0              0.0           0.0   \n",
       "2015-08-02       9561.0            0.0              0.0           0.0   \n",
       "2015-08-03       9637.0            0.0              0.0           0.0   \n",
       "...                 ...            ...              ...           ...   \n",
       "2021-08-28  126565723.0       218007.0         270534.0      458169.0   \n",
       "2021-08-29  126646738.0       216340.0         261453.0      443638.0   \n",
       "2021-08-30  126736492.0       216528.0         279101.0      463898.0   \n",
       "2021-08-31  126832691.0       232263.0         294382.0      489456.0   \n",
       "2021-09-01          NaN            NaN              NaN           NaN   \n",
       "\n",
       "            new_non_zero_count  block_height      sopr  price_usd_close  \\\n",
       "t                                                                         \n",
       "2015-07-30              9203.0        6911.0       NaN              NaN   \n",
       "2015-07-31               156.0       13774.0       NaN              NaN   \n",
       "2015-08-01               115.0       19067.0       NaN              NaN   \n",
       "2015-08-02                87.0       24425.0       NaN              NaN   \n",
       "2015-08-03                76.0       29705.0       NaN              NaN   \n",
       "...                        ...           ...       ...              ...   \n",
       "2021-08-28             82525.0    13117022.0  1.045690      3243.091440   \n",
       "2021-08-29             81015.0    13123511.0  1.038184      3232.684457   \n",
       "2021-08-30             89754.0    13129983.0  1.054713      3236.705129   \n",
       "2021-08-31             96199.0    13136426.0  1.068187      3440.253672   \n",
       "2021-09-01                 NaN           NaN       NaN      3532.053746   \n",
       "\n",
       "            marketcap_usd  difficulty_latest  hash_rate_mean  \n",
       "t                                                             \n",
       "2015-07-30            NaN       3.382792e+11    1.910758e+10  \n",
       "2015-07-31            NaN       8.231927e+11    4.679999e+10  \n",
       "2015-08-01            NaN       9.566506e+11    5.421432e+10  \n",
       "2015-08-02            NaN       1.102546e+12    6.315518e+10  \n",
       "2015-08-03            NaN       1.154732e+12    6.876058e+10  \n",
       "...                   ...                ...             ...  \n",
       "2021-08-28   3.805415e+11       8.349154e+15    6.130445e+14  \n",
       "2021-08-29   3.771270e+11       8.344136e+15    6.156244e+14  \n",
       "2021-08-30   3.779495e+11       8.363391e+15    6.243794e+14  \n",
       "2021-08-31   3.918475e+11       8.409844e+15    6.290792e+14  \n",
       "2021-09-01            NaN                NaN             NaN  \n",
       "\n",
       "[2226 rows x 11 columns]"
      ]
     },
     "execution_count": 54,
     "metadata": {},
     "output_type": "execute_result"
    }
   ],
   "source": [
    "# Creating a dataframe from the list of results generated from the API\n",
    "data_df = pd.concat(data, axis=1)\n",
    "data_df"
   ]
  },
  {
   "cell_type": "code",
   "execution_count": 63,
   "metadata": {},
   "outputs": [
    {
     "data": {
      "text/plain": [
       "['sopr', 'price_usd_close', 'marketcap_usd']"
      ]
     },
     "execution_count": 63,
     "metadata": {},
     "output_type": "execute_result"
    }
   ],
   "source": [
    "## Generating list of columns with more than 1 missing value\n",
    "test_list = list(data_df.isna().sum()[data_df.isna().sum() > 1].index)\n",
    "test_list"
   ]
  },
  {
   "cell_type": "code",
   "execution_count": 66,
   "metadata": {},
   "outputs": [
    {
     "data": {
      "text/plain": [
       "DatetimeIndex(['2015-07-30', '2015-07-31', '2015-08-01', '2015-08-02',\n",
       "               '2015-08-03', '2015-08-04', '2015-08-05', '2015-08-06',\n",
       "               '2021-09-01'],\n",
       "              dtype='datetime64[ns]', name='t', freq=None)"
      ]
     },
     "metadata": {},
     "output_type": "display_data"
    },
    {
     "data": {
      "text/plain": [
       "DatetimeIndex(['2015-07-30', '2015-07-31', '2015-08-01', '2015-08-02',\n",
       "               '2015-08-03', '2015-08-04', '2015-08-05', '2015-08-06',\n",
       "               '2015-08-07', '2018-04-12', '2018-04-13', '2018-04-14',\n",
       "               '2018-04-15'],\n",
       "              dtype='datetime64[ns]', name='t', freq=None)"
      ]
     },
     "metadata": {},
     "output_type": "display_data"
    },
    {
     "data": {
      "text/plain": [
       "DatetimeIndex(['2015-07-30', '2015-07-31', '2015-08-01', '2015-08-02',\n",
       "               '2015-08-03', '2015-08-04', '2015-08-05', '2015-08-06',\n",
       "               '2015-08-07', '2021-09-01'],\n",
       "              dtype='datetime64[ns]', name='t', freq=None)"
      ]
     },
     "metadata": {},
     "output_type": "display_data"
    }
   ],
   "source": [
    "## Looping through list and comparing index values\n",
    "for i in test_list:\n",
    "    display(data_df[data_df[i].isna()].index)"
   ]
  },
  {
   "cell_type": "code",
   "execution_count": 118,
   "metadata": {},
   "outputs": [],
   "source": [
    "data_df = data_df.dropna(axis=0)#.isna().sum()"
   ]
  },
  {
   "cell_type": "code",
   "execution_count": 1,
   "metadata": {},
   "outputs": [
    {
     "ename": "NameError",
     "evalue": "name 'data_df' is not defined",
     "output_type": "error",
     "traceback": [
      "\u001b[0;31m---------------------------------------------------------------------------\u001b[0m",
      "\u001b[0;31mNameError\u001b[0m                                 Traceback (most recent call last)",
      "\u001b[0;32m<ipython-input-1-07e83ac2c416>\u001b[0m in \u001b[0;36m<module>\u001b[0;34m\u001b[0m\n\u001b[0;32m----> 1\u001b[0;31m \u001b[0mdata_df\u001b[0m\u001b[0;34m.\u001b[0m\u001b[0mto_excel\u001b[0m\u001b[0;34m(\u001b[0m\u001b[0;34m'/data/eth_api_data.xlsx'\u001b[0m\u001b[0;34m)\u001b[0m\u001b[0;34m\u001b[0m\u001b[0;34m\u001b[0m\u001b[0m\n\u001b[0m",
      "\u001b[0;31mNameError\u001b[0m: name 'data_df' is not defined"
     ]
    }
   ],
   "source": [
    "data_df.to_excel('data/eth_api_data.xlsx')"
   ]
  },
  {
   "cell_type": "code",
   "execution_count": null,
   "metadata": {},
   "outputs": [],
   "source": []
  },
  {
   "cell_type": "code",
   "execution_count": null,
   "metadata": {},
   "outputs": [],
   "source": []
  },
  {
   "cell_type": "code",
   "execution_count": null,
   "metadata": {},
   "outputs": [],
   "source": []
  },
  {
   "cell_type": "code",
   "execution_count": 119,
   "metadata": {},
   "outputs": [],
   "source": [
    "# Creating a matrix of correlations for each of the features in the dataframe\n",
    "corr_matrix = data_df.corr()\n",
    "\n",
    "# Creating a boolean mask for all values on or above the matrix diagonal\n",
    "corr_matrix_mask = np.triu(np.ones_like(data_df.corr(), dtype=bool));"
   ]
  },
  {
   "cell_type": "code",
   "execution_count": 120,
   "metadata": {},
   "outputs": [
    {
     "data": {
      "image/png": "[encoded data removed]",
      "text/plain": [
       "<Figure size 288x720 with 2 Axes>"
      ]
     },
     "metadata": {
      "needs_background": "light"
     },
     "output_type": "display_data"
    }
   ],
   "source": [
    "# Quickly looking at how each feature correlates to price\n",
    "plt.figure(figsize=(4,10))\n",
    "heatmap = sns.heatmap(data_df.corr()[['price_usd_close']].sort_values(by='price_usd_close', ascending=False), vmin=-1, vmax=1, linewidths=1, linecolor='black', annot=True, fmt='.2g', cmap=\"gist_heat\")"
   ]
  },
  {
   "cell_type": "code",
   "execution_count": 1,
   "metadata": {},
   "outputs": [
    {
     "ename": "NameError",
     "evalue": "name 'data_df' is not defined",
     "output_type": "error",
     "traceback": [
      "\u001b[0;31m---------------------------------------------------------------------------\u001b[0m",
      "\u001b[0;31mNameError\u001b[0m                                 Traceback (most recent call last)",
      "\u001b[0;32m<ipython-input-1-6d0456cb2746>\u001b[0m in \u001b[0;36m<module>\u001b[0;34m\u001b[0m\n\u001b[0;32m----> 1\u001b[0;31m \u001b[0mx\u001b[0m \u001b[0;34m=\u001b[0m \u001b[0mdata_df\u001b[0m\u001b[0;34m.\u001b[0m\u001b[0mdrop\u001b[0m\u001b[0;34m(\u001b[0m\u001b[0;34m'price_usd_close'\u001b[0m\u001b[0;34m,\u001b[0m \u001b[0maxis\u001b[0m\u001b[0;34m=\u001b[0m\u001b[0;36m1\u001b[0m\u001b[0;34m)\u001b[0m\u001b[0;34m\u001b[0m\u001b[0;34m\u001b[0m\u001b[0m\n\u001b[0m\u001b[1;32m      2\u001b[0m \u001b[0my\u001b[0m \u001b[0;34m=\u001b[0m \u001b[0mdata_df\u001b[0m\u001b[0;34m.\u001b[0m\u001b[0mprice_usd_close\u001b[0m\u001b[0;34m\u001b[0m\u001b[0;34m\u001b[0m\u001b[0m\n\u001b[1;32m      3\u001b[0m \u001b[0mfig\u001b[0m\u001b[0;34m,\u001b[0m \u001b[0maxes\u001b[0m \u001b[0;34m=\u001b[0m \u001b[0mplt\u001b[0m\u001b[0;34m.\u001b[0m\u001b[0msubplots\u001b[0m\u001b[0;34m(\u001b[0m\u001b[0mncols\u001b[0m\u001b[0;34m=\u001b[0m\u001b[0;36m4\u001b[0m\u001b[0;34m,\u001b[0m \u001b[0mnrows\u001b[0m\u001b[0;34m=\u001b[0m\u001b[0;36m3\u001b[0m\u001b[0;34m,\u001b[0m \u001b[0mfigsize\u001b[0m\u001b[0;34m=\u001b[0m\u001b[0;34m(\u001b[0m\u001b[0;36m15\u001b[0m\u001b[0;34m,\u001b[0m \u001b[0;36m15\u001b[0m\u001b[0;34m)\u001b[0m\u001b[0;34m)\u001b[0m\u001b[0;34m\u001b[0m\u001b[0;34m\u001b[0m\u001b[0m\n\u001b[1;32m      4\u001b[0m \u001b[0mfig\u001b[0m\u001b[0;34m.\u001b[0m\u001b[0mset_tight_layout\u001b[0m\u001b[0;34m(\u001b[0m\u001b[0;32mTrue\u001b[0m\u001b[0;34m)\u001b[0m\u001b[0;34m\u001b[0m\u001b[0;34m\u001b[0m\u001b[0m\n\u001b[1;32m      5\u001b[0m \u001b[0;32mfor\u001b[0m \u001b[0mindex\u001b[0m\u001b[0;34m,\u001b[0m \u001b[0mcol\u001b[0m \u001b[0;32min\u001b[0m \u001b[0menumerate\u001b[0m\u001b[0;34m(\u001b[0m\u001b[0mx\u001b[0m\u001b[0;34m.\u001b[0m\u001b[0mcolumns\u001b[0m\u001b[0;34m)\u001b[0m\u001b[0;34m:\u001b[0m\u001b[0;34m\u001b[0m\u001b[0;34m\u001b[0m\u001b[0m\n",
      "\u001b[0;31mNameError\u001b[0m: name 'data_df' is not defined"
     ]
    }
   ],
   "source": [
    "x = data_df.drop('price_usd_close', axis=1)\n",
    "y = data_df.price_usd_close\n",
    "fig, axes = plt.subplots(ncols=4, nrows=3, figsize=(15, 15))\n",
    "fig.set_tight_layout(True)\n",
    "for index, col in enumerate(x.columns): \n",
    "    ax = axes[index//2][index%3]\n",
    "    ax.scatter(x[col], y, alpha=0.2)\n",
    "    ax.set_xlabel(col)\n",
    "    ax.set_ylabel(\"Price\");"
   ]
  },
  {
   "cell_type": "code",
   "execution_count": 122,
   "metadata": {},
   "outputs": [
    {
     "data": {
      "image/png": "[encoded data removed]",
      "text/plain": [
       "<Figure size 1080x1080 with 2 Axes>"
      ]
     },
     "metadata": {
      "needs_background": "light"
     },
     "output_type": "display_data"
    }
   ],
   "source": [
    "# Creating a heatmap of correlation coefficients\n",
    "fig, ax = plt.subplots(figsize=(15,15))\n",
    "sns.heatmap(\n",
    "            corr_matrix,\n",
    "            ax=ax,\n",
    "            annot=True,\n",
    "            mask=corr_matrix_mask,\n",
    "            cbar_kws={\"label\": \"Correlation\", \"orientation\": \"horizontal\", \"pad\": .2, \"extend\": \"both\"}\n",
    ");"
   ]
  },
  {
   "cell_type": "code",
   "execution_count": 123,
   "metadata": {},
   "outputs": [
    {
     "data": {
      "text/plain": [
       "Index(['count', 'sending_count', 'receiving_count', 'active_count',\n",
       "       'new_non_zero_count', 'block_height', 'sopr', 'price_usd_close',\n",
       "       'marketcap_usd', 'difficulty_latest', 'hash_rate_mean'],\n",
       "      dtype='object')"
      ]
     },
     "execution_count": 123,
     "metadata": {},
     "output_type": "execute_result"
    }
   ],
   "source": [
    "data_df.columns"
   ]
  },
  {
   "cell_type": "code",
   "execution_count": 124,
   "metadata": {},
   "outputs": [
    {
     "name": "stdout",
     "output_type": "stream",
     "text": [
      "<class 'pandas.core.frame.DataFrame'>\n",
      "DatetimeIndex: 2212 entries, 2015-08-08 to 2021-08-31\n",
      "Data columns (total 11 columns):\n",
      " #   Column              Non-Null Count  Dtype  \n",
      "---  ------              --------------  -----  \n",
      " 0   count               2212 non-null   float64\n",
      " 1   sending_count       2212 non-null   float64\n",
      " 2   receiving_count     2212 non-null   float64\n",
      " 3   active_count        2212 non-null   float64\n",
      " 4   new_non_zero_count  2212 non-null   float64\n",
      " 5   block_height        2212 non-null   float64\n",
      " 6   sopr                2212 non-null   float64\n",
      " 7   price_usd_close     2212 non-null   float64\n",
      " 8   marketcap_usd       2212 non-null   float64\n",
      " 9   difficulty_latest   2212 non-null   float64\n",
      " 10  hash_rate_mean      2212 non-null   float64\n",
      "dtypes: float64(11)\n",
      "memory usage: 207.4 KB\n"
     ]
    }
   ],
   "source": [
    "data_df.info()"
   ]
  },
  {
   "cell_type": "code",
   "execution_count": 125,
   "metadata": {},
   "outputs": [
    {
     "name": "stdout",
     "output_type": "stream",
     "text": [
      "[[0.00000000e+00 2.81804450e-04 0.00000000e+00 ... 1.16445076e-04\n",
      "  0.00000000e+00 0.00000000e+00]\n",
      " [1.99492123e-06 0.00000000e+00 8.40115869e-05 ... 4.51751572e-05\n",
      "  1.61012428e-05 7.86519370e-06]\n",
      " [7.11232786e-06 7.82289154e-04 5.20871839e-04 ... 3.22921122e-05\n",
      "  4.06845886e-05 2.41552293e-05]\n",
      " ...\n",
      " [9.98533749e-01 4.86694321e-01 4.38564007e-01 ... 7.73113085e-01\n",
      "  9.92185234e-01 9.78608732e-01]\n",
      " [9.99241465e-01 4.87118155e-01 4.68216736e-01 ... 7.74799264e-01\n",
      "  9.94475327e-01 9.92528030e-01]\n",
      " [1.00000000e+00 5.22591699e-01 4.93892358e-01 ... 8.03292784e-01\n",
      "  1.00000000e+00 1.00000000e+00]]\n"
     ]
    }
   ],
   "source": [
    "from sklearn.preprocessing import MinMaxScaler\n",
    "\n",
    "scaler = MinMaxScaler()\n",
    "\n",
    "scaled_df = scaler.fit_transform(data_df)\n",
    "print(scaled_df)"
   ]
  },
  {
   "cell_type": "code",
   "execution_count": 126,
   "metadata": {},
   "outputs": [],
   "source": [
    "# Dropping the dependent variable from the independent columns\n",
    "X = data_df.drop(['price_usd_close'], axis=1)\n",
    "\n",
    "# Setting our dependent variable as price\n",
    "y = data_df['price_usd_close']\n",
    "\n",
    "# Split up our independent and dependent variables into training and test sets\n",
    "X_train, X_test, y_train, y_test = train_test_split(X, y, test_size=0.2, random_state=42)"
   ]
  },
  {
   "cell_type": "code",
   "execution_count": 129,
   "metadata": {},
   "outputs": [],
   "source": [
    "# Initialize an empty regression model\n",
    "lr = LinearRegression()\n",
    "\n",
    "# Fits the model to our training dataset\n",
    "lr.fit(X_train, y_train)\n",
    "\n",
    "# Predict price with the trained model\n",
    "pred_lr1 = lr.predict(X_test)\n",
    "\n",
    "# Get the coefficient of determination for training and test data\n",
    "train_score_lr1 = lr.score(X_train, y_train)\n",
    "test_score_lr1 = lr.score(X_test, y_test)"
   ]
  },
  {
   "cell_type": "code",
   "execution_count": 130,
   "metadata": {},
   "outputs": [
    {
     "data": {
      "text/plain": [
       "-1.3737199078422222e-06"
      ]
     },
     "execution_count": 130,
     "metadata": {},
     "output_type": "execute_result"
    }
   ],
   "source": [
    "# Take a peek at model coef\n",
    "lr.coef_[0]"
   ]
  },
  {
   "cell_type": "code",
   "execution_count": 131,
   "metadata": {},
   "outputs": [
    {
     "data": {
      "text/plain": [
       "-4.613200362773171"
      ]
     },
     "execution_count": 131,
     "metadata": {},
     "output_type": "execute_result"
    }
   ],
   "source": [
    "# Baseline price without features\n",
    "lr.intercept_"
   ]
  },
  {
   "cell_type": "code",
   "execution_count": 132,
   "metadata": {},
   "outputs": [],
   "source": [
    "# Find the error of our predicted y test values\n",
    "rmse_lr1 = mean_squared_error(y_test, pred_lr1, squared=False)"
   ]
  },
  {
   "cell_type": "code",
   "execution_count": 133,
   "metadata": {},
   "outputs": [
    {
     "data": {
      "text/plain": [
       "(0.9980381884746654, 0.9981279962887825, 28.379635063576305)"
      ]
     },
     "execution_count": 133,
     "metadata": {},
     "output_type": "execute_result"
    }
   ],
   "source": [
    "train_score_lr1, test_score_lr1, rmse_lr1"
   ]
  },
  {
   "cell_type": "code",
   "execution_count": 134,
   "metadata": {},
   "outputs": [],
   "source": [
    "# Cross validate our model and find the mean of the training scores\n",
    "scores_simple_1 = cross_validate(\n",
    "                    lr, X_train, y_train, cv=5, \n",
    "                    return_train_score=True\n",
    ")"
   ]
  },
  {
   "cell_type": "code",
   "execution_count": 135,
   "metadata": {},
   "outputs": [],
   "source": [
    "simple_1_mean = np.mean(scores_simple_1['train_score'])\n",
    "simple_1_mean_test = np.mean(scores_simple_1['test_score'])"
   ]
  },
  {
   "cell_type": "code",
   "execution_count": 136,
   "metadata": {},
   "outputs": [],
   "source": [
    "from scipy import stats\n",
    "\n",
    "import statsmodels.api as sm\n"
   ]
  },
  {
   "cell_type": "code",
   "execution_count": 137,
   "metadata": {},
   "outputs": [
    {
     "data": {
      "image/png": "[encoded data removed]",
      "text/plain": [
       "<Figure size 432x288 with 1 Axes>"
      ]
     },
     "metadata": {
      "needs_background": "light"
     },
     "output_type": "display_data"
    }
   ],
   "source": [
    "# Checking the QQ Plot to understand the distribution of residuals\n",
    "residuals1 = (y_test - pred_lr1)\n",
    "sm.graphics.qqplot(residuals1, dist=stats.norm, line=\"45\", fit=True);"
   ]
  },
  {
   "cell_type": "code",
   "execution_count": 138,
   "metadata": {},
   "outputs": [
    {
     "data": {
      "image/png": "[encoded data removed]",
      "text/plain": [
       "<Figure size 432x288 with 1 Axes>"
      ]
     },
     "metadata": {
      "needs_background": "light"
     },
     "output_type": "display_data"
    }
   ],
   "source": [
    "# Checking for homoscedasticity \n",
    "\n",
    "residuals1 = (y_test - pred_lr1)\n",
    "fig, ax = plt.subplots()\n",
    "ax.scatter(pred_lr1, residuals1, alpha=.1)\n",
    "ax.plot(pred_lr1, [0 for i in range(len(X_test))])\n",
    "ax.set_xlabel('Predicted Value')\n",
    "ax.set_ylabel('Actual - Predicted Value');"
   ]
  },
  {
   "cell_type": "code",
   "execution_count": 139,
   "metadata": {},
   "outputs": [
    {
     "data": {
      "image/png": "[encoded data removed]",
      "text/plain": [
       "<Figure size 432x288 with 1 Axes>"
      ]
     },
     "metadata": {
      "needs_background": "light"
     },
     "output_type": "display_data"
    }
   ],
   "source": [
    "# Checking to see how our regression line fits our data\n",
    "sns.regplot(x = y_test, y = pred_lr1, data = df, line_kws={'color':'r'}, scatter_kws={'alpha':0.1});"
   ]
  },
  {
   "cell_type": "markdown",
   "metadata": {},
   "source": [
    "#### Model 2 Using MinMaxScaler"
   ]
  },
  {
   "cell_type": "code",
   "execution_count": 140,
   "metadata": {},
   "outputs": [
    {
     "name": "stdout",
     "output_type": "stream",
     "text": [
      "[[0.00000000e+00 2.81804450e-04 0.00000000e+00 ... 1.16445076e-04\n",
      "  0.00000000e+00 0.00000000e+00]\n",
      " [1.99492123e-06 0.00000000e+00 8.40115869e-05 ... 4.51751572e-05\n",
      "  1.61012428e-05 7.86519370e-06]\n",
      " [7.11232786e-06 7.82289154e-04 5.20871839e-04 ... 3.22921122e-05\n",
      "  4.06845886e-05 2.41552293e-05]\n",
      " ...\n",
      " [9.98533749e-01 4.86694321e-01 4.38564007e-01 ... 7.73113085e-01\n",
      "  9.92185234e-01 9.78608732e-01]\n",
      " [9.99241465e-01 4.87118155e-01 4.68216736e-01 ... 7.74799264e-01\n",
      "  9.94475327e-01 9.92528030e-01]\n",
      " [1.00000000e+00 5.22591699e-01 4.93892358e-01 ... 8.03292784e-01\n",
      "  1.00000000e+00 1.00000000e+00]]\n"
     ]
    }
   ],
   "source": [
    "from sklearn.preprocessing import MinMaxScaler\n",
    "\n",
    "scaler = MinMaxScaler()\n",
    "\n",
    "scaled_df = scaler.fit_transform(data_df)\n",
    "print(scaled_df)"
   ]
  },
  {
   "cell_type": "code",
   "execution_count": 142,
   "metadata": {},
   "outputs": [
    {
     "ename": "AttributeError",
     "evalue": "'numpy.ndarray' object has no attribute 'drop'",
     "output_type": "error",
     "traceback": [
      "\u001b[0;31m---------------------------------------------------------------------------\u001b[0m",
      "\u001b[0;31mAttributeError\u001b[0m                            Traceback (most recent call last)",
      "\u001b[0;32m<ipython-input-142-6a556353b7f8>\u001b[0m in \u001b[0;36m<module>\u001b[0;34m\u001b[0m\n\u001b[1;32m      1\u001b[0m \u001b[0;31m# Dropping the dependent variable from the independent columns\u001b[0m\u001b[0;34m\u001b[0m\u001b[0;34m\u001b[0m\u001b[0;34m\u001b[0m\u001b[0m\n\u001b[0;32m----> 2\u001b[0;31m \u001b[0mX\u001b[0m \u001b[0;34m=\u001b[0m \u001b[0mscaled_df\u001b[0m\u001b[0;34m.\u001b[0m\u001b[0mdrop\u001b[0m\u001b[0;34m(\u001b[0m\u001b[0;34m[\u001b[0m\u001b[0;34m'price_usd_close'\u001b[0m\u001b[0;34m]\u001b[0m\u001b[0;34m,\u001b[0m \u001b[0maxis\u001b[0m\u001b[0;34m=\u001b[0m\u001b[0;36m1\u001b[0m\u001b[0;34m)\u001b[0m\u001b[0;34m\u001b[0m\u001b[0;34m\u001b[0m\u001b[0m\n\u001b[0m\u001b[1;32m      3\u001b[0m \u001b[0;34m\u001b[0m\u001b[0m\n\u001b[1;32m      4\u001b[0m \u001b[0;31m# Setting our dependent variable as price\u001b[0m\u001b[0;34m\u001b[0m\u001b[0;34m\u001b[0m\u001b[0;34m\u001b[0m\u001b[0m\n\u001b[1;32m      5\u001b[0m \u001b[0my\u001b[0m \u001b[0;34m=\u001b[0m \u001b[0mscaled_df\u001b[0m\u001b[0;34m[\u001b[0m\u001b[0;34m'price_usd_close'\u001b[0m\u001b[0;34m]\u001b[0m\u001b[0;34m\u001b[0m\u001b[0;34m\u001b[0m\u001b[0m\n",
      "\u001b[0;31mAttributeError\u001b[0m: 'numpy.ndarray' object has no attribute 'drop'"
     ]
    }
   ],
   "source": [
    "# Dropping the dependent variable from the independent columns\n",
    "X = scaled_df.drop(['price_usd_close'], axis=1)\n",
    "\n",
    "# Setting our dependent variable as price\n",
    "y = scaled_df['price_usd_close']\n",
    "\n",
    "# Split up our independent and dependent variables into training and test sets\n",
    "X_train, X_test, y_train, y_test = train_test_split(X, y, test_size=0.2, random_state=42)"
   ]
  },
  {
   "cell_type": "code",
   "execution_count": null,
   "metadata": {},
   "outputs": [],
   "source": []
  },
  {
   "cell_type": "code",
   "execution_count": null,
   "metadata": {},
   "outputs": [],
   "source": []
  },
  {
   "cell_type": "code",
   "execution_count": null,
   "metadata": {},
   "outputs": [],
   "source": []
  },
  {
   "cell_type": "code",
   "execution_count": null,
   "metadata": {},
   "outputs": [],
   "source": []
  },
  {
   "cell_type": "code",
   "execution_count": null,
   "metadata": {},
   "outputs": [],
   "source": []
  },
  {
   "cell_type": "code",
   "execution_count": null,
   "metadata": {},
   "outputs": [],
   "source": []
  },
  {
   "cell_type": "code",
   "execution_count": null,
   "metadata": {},
   "outputs": [],
   "source": []
  },
  {
   "cell_type": "code",
   "execution_count": 107,
   "metadata": {},
   "outputs": [
    {
     "data": {
      "text/html": [
       "<div>\n",
       "<style scoped>\n",
       "    .dataframe tbody tr th:only-of-type {\n",
       "        vertical-align: middle;\n",
       "    }\n",
       "\n",
       "    .dataframe tbody tr th {\n",
       "        vertical-align: top;\n",
       "    }\n",
       "\n",
       "    .dataframe thead th {\n",
       "        text-align: right;\n",
       "    }\n",
       "</style>\n",
       "<table border=\"1\" class=\"dataframe\">\n",
       "  <thead>\n",
       "    <tr style=\"text-align: right;\">\n",
       "      <th></th>\n",
       "      <th>count</th>\n",
       "      <th>sending_count</th>\n",
       "      <th>receiving_count</th>\n",
       "      <th>active_count</th>\n",
       "      <th>new_non_zero_count</th>\n",
       "      <th>block_height</th>\n",
       "      <th>sopr</th>\n",
       "      <th>marketcap_usd</th>\n",
       "      <th>difficulty_latest</th>\n",
       "      <th>hash_rate_mean</th>\n",
       "    </tr>\n",
       "    <tr>\n",
       "      <th>t</th>\n",
       "      <th></th>\n",
       "      <th></th>\n",
       "      <th></th>\n",
       "      <th></th>\n",
       "      <th></th>\n",
       "      <th></th>\n",
       "      <th></th>\n",
       "      <th></th>\n",
       "      <th></th>\n",
       "      <th></th>\n",
       "    </tr>\n",
       "  </thead>\n",
       "  <tbody>\n",
       "    <tr>\n",
       "      <th>2016-12-18</th>\n",
       "      <td>695726.0</td>\n",
       "      <td>6643.0</td>\n",
       "      <td>12086.0</td>\n",
       "      <td>13456.0</td>\n",
       "      <td>1417.0</td>\n",
       "      <td>2833934.0</td>\n",
       "      <td>0.984769</td>\n",
       "      <td>6.879597e+08</td>\n",
       "      <td>9.057821e+13</td>\n",
       "      <td>6.189269e+12</td>\n",
       "    </tr>\n",
       "    <tr>\n",
       "      <th>2018-06-07</th>\n",
       "      <td>32611649.0</td>\n",
       "      <td>142393.0</td>\n",
       "      <td>245276.0</td>\n",
       "      <td>390856.0</td>\n",
       "      <td>92664.0</td>\n",
       "      <td>5750373.0</td>\n",
       "      <td>1.001390</td>\n",
       "      <td>6.087038e+10</td>\n",
       "      <td>3.144921e+15</td>\n",
       "      <td>2.063059e+14</td>\n",
       "    </tr>\n",
       "    <tr>\n",
       "      <th>2016-02-20</th>\n",
       "      <td>65880.0</td>\n",
       "      <td>2476.0</td>\n",
       "      <td>4908.0</td>\n",
       "      <td>5224.0</td>\n",
       "      <td>638.0</td>\n",
       "      <td>1035158.0</td>\n",
       "      <td>0.941212</td>\n",
       "      <td>3.431342e+08</td>\n",
       "      <td>1.261949e+13</td>\n",
       "      <td>7.488415e+11</td>\n",
       "    </tr>\n",
       "    <tr>\n",
       "      <th>2018-01-31</th>\n",
       "      <td>21996400.0</td>\n",
       "      <td>227046.0</td>\n",
       "      <td>345622.0</td>\n",
       "      <td>434297.0</td>\n",
       "      <td>144965.0</td>\n",
       "      <td>5008421.0</td>\n",
       "      <td>1.020630</td>\n",
       "      <td>1.051186e+11</td>\n",
       "      <td>2.644975e+15</td>\n",
       "      <td>1.787545e+14</td>\n",
       "    </tr>\n",
       "    <tr>\n",
       "      <th>2021-08-10</th>\n",
       "      <td>124906751.0</td>\n",
       "      <td>224955.0</td>\n",
       "      <td>278139.0</td>\n",
       "      <td>481417.0</td>\n",
       "      <td>94135.0</td>\n",
       "      <td>13000574.0</td>\n",
       "      <td>1.082913</td>\n",
       "      <td>3.668015e+11</td>\n",
       "      <td>8.058123e+15</td>\n",
       "      <td>5.916819e+14</td>\n",
       "    </tr>\n",
       "  </tbody>\n",
       "</table>\n",
       "</div>"
      ],
      "text/plain": [
       "                  count  sending_count  receiving_count  active_count  \\\n",
       "t                                                                       \n",
       "2016-12-18     695726.0         6643.0          12086.0       13456.0   \n",
       "2018-06-07   32611649.0       142393.0         245276.0      390856.0   \n",
       "2016-02-20      65880.0         2476.0           4908.0        5224.0   \n",
       "2018-01-31   21996400.0       227046.0         345622.0      434297.0   \n",
       "2021-08-10  124906751.0       224955.0         278139.0      481417.0   \n",
       "\n",
       "            new_non_zero_count  block_height      sopr  marketcap_usd  \\\n",
       "t                                                                       \n",
       "2016-12-18              1417.0     2833934.0  0.984769   6.879597e+08   \n",
       "2018-06-07             92664.0     5750373.0  1.001390   6.087038e+10   \n",
       "2016-02-20               638.0     1035158.0  0.941212   3.431342e+08   \n",
       "2018-01-31            144965.0     5008421.0  1.020630   1.051186e+11   \n",
       "2021-08-10             94135.0    13000574.0  1.082913   3.668015e+11   \n",
       "\n",
       "            difficulty_latest  hash_rate_mean  \n",
       "t                                              \n",
       "2016-12-18       9.057821e+13    6.189269e+12  \n",
       "2018-06-07       3.144921e+15    2.063059e+14  \n",
       "2016-02-20       1.261949e+13    7.488415e+11  \n",
       "2018-01-31       2.644975e+15    1.787545e+14  \n",
       "2021-08-10       8.058123e+15    5.916819e+14  "
      ]
     },
     "execution_count": 107,
     "metadata": {},
     "output_type": "execute_result"
    }
   ],
   "source": [
    "X_train.head()"
   ]
  },
  {
   "cell_type": "code",
   "execution_count": 106,
   "metadata": {},
   "outputs": [
    {
     "data": {
      "text/plain": [
       "t\n",
       "2016-12-18       7.940000\n",
       "2018-06-07     604.751000\n",
       "2016-02-20       4.336592\n",
       "2018-01-31    1100.258000\n",
       "2021-08-10    3143.079162\n",
       "Name: price_usd_close, dtype: float64"
      ]
     },
     "execution_count": 106,
     "metadata": {},
     "output_type": "execute_result"
    }
   ],
   "source": [
    "y_train.head()"
   ]
  },
  {
   "cell_type": "code",
   "execution_count": 103,
   "metadata": {},
   "outputs": [
    {
     "name": "stdout",
     "output_type": "stream",
     "text": [
      "<class 'pandas.core.frame.DataFrame'>\n",
      "DatetimeIndex: 446 entries, 2015-09-24 to 2018-12-09\n",
      "Data columns (total 10 columns):\n",
      " #   Column              Non-Null Count  Dtype  \n",
      "---  ------              --------------  -----  \n",
      " 0   count               446 non-null    float64\n",
      " 1   sending_count       446 non-null    float64\n",
      " 2   receiving_count     446 non-null    float64\n",
      " 3   active_count        446 non-null    float64\n",
      " 4   new_non_zero_count  446 non-null    float64\n",
      " 5   block_height        446 non-null    float64\n",
      " 6   sopr                446 non-null    float64\n",
      " 7   marketcap_usd       446 non-null    float64\n",
      " 8   difficulty_latest   446 non-null    float64\n",
      " 9   hash_rate_mean      446 non-null    float64\n",
      "dtypes: float64(10)\n",
      "memory usage: 38.3 KB\n"
     ]
    }
   ],
   "source": [
    "X_test.info()"
   ]
  },
  {
   "cell_type": "code",
   "execution_count": null,
   "metadata": {},
   "outputs": [],
   "source": []
  },
  {
   "cell_type": "markdown",
   "metadata": {},
   "source": [
    "### Model Building"
   ]
  },
  {
   "cell_type": "code",
   "execution_count": 101,
   "metadata": {},
   "outputs": [],
   "source": [
    "model = LinearRegression()"
   ]
  },
  {
   "cell_type": "code",
   "execution_count": 99,
   "metadata": {},
   "outputs": [
    {
     "ename": "ValueError",
     "evalue": "Input contains NaN, infinity or a value too large for dtype('float64').",
     "output_type": "error",
     "traceback": [
      "\u001b[0;31m---------------------------------------------------------------------------\u001b[0m",
      "\u001b[0;31mValueError\u001b[0m                                Traceback (most recent call last)",
      "\u001b[0;32m<ipython-input-99-d768f88d541e>\u001b[0m in \u001b[0;36m<module>\u001b[0;34m\u001b[0m\n\u001b[0;32m----> 1\u001b[0;31m \u001b[0mmodel\u001b[0m\u001b[0;34m.\u001b[0m\u001b[0mfit\u001b[0m\u001b[0;34m(\u001b[0m\u001b[0mX_train\u001b[0m\u001b[0;34m,\u001b[0m \u001b[0my_train\u001b[0m\u001b[0;34m)\u001b[0m\u001b[0;34m\u001b[0m\u001b[0;34m\u001b[0m\u001b[0m\n\u001b[0m",
      "\u001b[0;32m~/opt/anaconda3/envs/learn-env/lib/python3.8/site-packages/sklearn/linear_model/_base.py\u001b[0m in \u001b[0;36mfit\u001b[0;34m(self, X, y, sample_weight)\u001b[0m\n\u001b[1;32m    503\u001b[0m \u001b[0;34m\u001b[0m\u001b[0m\n\u001b[1;32m    504\u001b[0m         \u001b[0mn_jobs_\u001b[0m \u001b[0;34m=\u001b[0m \u001b[0mself\u001b[0m\u001b[0;34m.\u001b[0m\u001b[0mn_jobs\u001b[0m\u001b[0;34m\u001b[0m\u001b[0;34m\u001b[0m\u001b[0m\n\u001b[0;32m--> 505\u001b[0;31m         X, y = self._validate_data(X, y, accept_sparse=['csr', 'csc', 'coo'],\n\u001b[0m\u001b[1;32m    506\u001b[0m                                    y_numeric=True, multi_output=True)\n\u001b[1;32m    507\u001b[0m \u001b[0;34m\u001b[0m\u001b[0m\n",
      "\u001b[0;32m~/opt/anaconda3/envs/learn-env/lib/python3.8/site-packages/sklearn/base.py\u001b[0m in \u001b[0;36m_validate_data\u001b[0;34m(self, X, y, reset, validate_separately, **check_params)\u001b[0m\n\u001b[1;32m    430\u001b[0m                 \u001b[0my\u001b[0m \u001b[0;34m=\u001b[0m \u001b[0mcheck_array\u001b[0m\u001b[0;34m(\u001b[0m\u001b[0my\u001b[0m\u001b[0;34m,\u001b[0m \u001b[0;34m**\u001b[0m\u001b[0mcheck_y_params\u001b[0m\u001b[0;34m)\u001b[0m\u001b[0;34m\u001b[0m\u001b[0;34m\u001b[0m\u001b[0m\n\u001b[1;32m    431\u001b[0m             \u001b[0;32melse\u001b[0m\u001b[0;34m:\u001b[0m\u001b[0;34m\u001b[0m\u001b[0;34m\u001b[0m\u001b[0m\n\u001b[0;32m--> 432\u001b[0;31m                 \u001b[0mX\u001b[0m\u001b[0;34m,\u001b[0m \u001b[0my\u001b[0m \u001b[0;34m=\u001b[0m \u001b[0mcheck_X_y\u001b[0m\u001b[0;34m(\u001b[0m\u001b[0mX\u001b[0m\u001b[0;34m,\u001b[0m \u001b[0my\u001b[0m\u001b[0;34m,\u001b[0m \u001b[0;34m**\u001b[0m\u001b[0mcheck_params\u001b[0m\u001b[0;34m)\u001b[0m\u001b[0;34m\u001b[0m\u001b[0;34m\u001b[0m\u001b[0m\n\u001b[0m\u001b[1;32m    433\u001b[0m             \u001b[0mout\u001b[0m \u001b[0;34m=\u001b[0m \u001b[0mX\u001b[0m\u001b[0;34m,\u001b[0m \u001b[0my\u001b[0m\u001b[0;34m\u001b[0m\u001b[0;34m\u001b[0m\u001b[0m\n\u001b[1;32m    434\u001b[0m \u001b[0;34m\u001b[0m\u001b[0m\n",
      "\u001b[0;32m~/opt/anaconda3/envs/learn-env/lib/python3.8/site-packages/sklearn/utils/validation.py\u001b[0m in \u001b[0;36minner_f\u001b[0;34m(*args, **kwargs)\u001b[0m\n\u001b[1;32m     70\u001b[0m                           FutureWarning)\n\u001b[1;32m     71\u001b[0m         \u001b[0mkwargs\u001b[0m\u001b[0;34m.\u001b[0m\u001b[0mupdate\u001b[0m\u001b[0;34m(\u001b[0m\u001b[0;34m{\u001b[0m\u001b[0mk\u001b[0m\u001b[0;34m:\u001b[0m \u001b[0marg\u001b[0m \u001b[0;32mfor\u001b[0m \u001b[0mk\u001b[0m\u001b[0;34m,\u001b[0m \u001b[0marg\u001b[0m \u001b[0;32min\u001b[0m \u001b[0mzip\u001b[0m\u001b[0;34m(\u001b[0m\u001b[0msig\u001b[0m\u001b[0;34m.\u001b[0m\u001b[0mparameters\u001b[0m\u001b[0;34m,\u001b[0m \u001b[0margs\u001b[0m\u001b[0;34m)\u001b[0m\u001b[0;34m}\u001b[0m\u001b[0;34m)\u001b[0m\u001b[0;34m\u001b[0m\u001b[0;34m\u001b[0m\u001b[0m\n\u001b[0;32m---> 72\u001b[0;31m         \u001b[0;32mreturn\u001b[0m \u001b[0mf\u001b[0m\u001b[0;34m(\u001b[0m\u001b[0;34m**\u001b[0m\u001b[0mkwargs\u001b[0m\u001b[0;34m)\u001b[0m\u001b[0;34m\u001b[0m\u001b[0;34m\u001b[0m\u001b[0m\n\u001b[0m\u001b[1;32m     73\u001b[0m     \u001b[0;32mreturn\u001b[0m \u001b[0minner_f\u001b[0m\u001b[0;34m\u001b[0m\u001b[0;34m\u001b[0m\u001b[0m\n\u001b[1;32m     74\u001b[0m \u001b[0;34m\u001b[0m\u001b[0m\n",
      "\u001b[0;32m~/opt/anaconda3/envs/learn-env/lib/python3.8/site-packages/sklearn/utils/validation.py\u001b[0m in \u001b[0;36mcheck_X_y\u001b[0;34m(X, y, accept_sparse, accept_large_sparse, dtype, order, copy, force_all_finite, ensure_2d, allow_nd, multi_output, ensure_min_samples, ensure_min_features, y_numeric, estimator)\u001b[0m\n\u001b[1;32m    793\u001b[0m         \u001b[0;32mraise\u001b[0m \u001b[0mValueError\u001b[0m\u001b[0;34m(\u001b[0m\u001b[0;34m\"y cannot be None\"\u001b[0m\u001b[0;34m)\u001b[0m\u001b[0;34m\u001b[0m\u001b[0;34m\u001b[0m\u001b[0m\n\u001b[1;32m    794\u001b[0m \u001b[0;34m\u001b[0m\u001b[0m\n\u001b[0;32m--> 795\u001b[0;31m     X = check_array(X, accept_sparse=accept_sparse,\n\u001b[0m\u001b[1;32m    796\u001b[0m                     \u001b[0maccept_large_sparse\u001b[0m\u001b[0;34m=\u001b[0m\u001b[0maccept_large_sparse\u001b[0m\u001b[0;34m,\u001b[0m\u001b[0;34m\u001b[0m\u001b[0;34m\u001b[0m\u001b[0m\n\u001b[1;32m    797\u001b[0m                     \u001b[0mdtype\u001b[0m\u001b[0;34m=\u001b[0m\u001b[0mdtype\u001b[0m\u001b[0;34m,\u001b[0m \u001b[0morder\u001b[0m\u001b[0;34m=\u001b[0m\u001b[0morder\u001b[0m\u001b[0;34m,\u001b[0m \u001b[0mcopy\u001b[0m\u001b[0;34m=\u001b[0m\u001b[0mcopy\u001b[0m\u001b[0;34m,\u001b[0m\u001b[0;34m\u001b[0m\u001b[0;34m\u001b[0m\u001b[0m\n",
      "\u001b[0;32m~/opt/anaconda3/envs/learn-env/lib/python3.8/site-packages/sklearn/utils/validation.py\u001b[0m in \u001b[0;36minner_f\u001b[0;34m(*args, **kwargs)\u001b[0m\n\u001b[1;32m     70\u001b[0m                           FutureWarning)\n\u001b[1;32m     71\u001b[0m         \u001b[0mkwargs\u001b[0m\u001b[0;34m.\u001b[0m\u001b[0mupdate\u001b[0m\u001b[0;34m(\u001b[0m\u001b[0;34m{\u001b[0m\u001b[0mk\u001b[0m\u001b[0;34m:\u001b[0m \u001b[0marg\u001b[0m \u001b[0;32mfor\u001b[0m \u001b[0mk\u001b[0m\u001b[0;34m,\u001b[0m \u001b[0marg\u001b[0m \u001b[0;32min\u001b[0m \u001b[0mzip\u001b[0m\u001b[0;34m(\u001b[0m\u001b[0msig\u001b[0m\u001b[0;34m.\u001b[0m\u001b[0mparameters\u001b[0m\u001b[0;34m,\u001b[0m \u001b[0margs\u001b[0m\u001b[0;34m)\u001b[0m\u001b[0;34m}\u001b[0m\u001b[0;34m)\u001b[0m\u001b[0;34m\u001b[0m\u001b[0;34m\u001b[0m\u001b[0m\n\u001b[0;32m---> 72\u001b[0;31m         \u001b[0;32mreturn\u001b[0m \u001b[0mf\u001b[0m\u001b[0;34m(\u001b[0m\u001b[0;34m**\u001b[0m\u001b[0mkwargs\u001b[0m\u001b[0;34m)\u001b[0m\u001b[0;34m\u001b[0m\u001b[0;34m\u001b[0m\u001b[0m\n\u001b[0m\u001b[1;32m     73\u001b[0m     \u001b[0;32mreturn\u001b[0m \u001b[0minner_f\u001b[0m\u001b[0;34m\u001b[0m\u001b[0;34m\u001b[0m\u001b[0m\n\u001b[1;32m     74\u001b[0m \u001b[0;34m\u001b[0m\u001b[0m\n",
      "\u001b[0;32m~/opt/anaconda3/envs/learn-env/lib/python3.8/site-packages/sklearn/utils/validation.py\u001b[0m in \u001b[0;36mcheck_array\u001b[0;34m(array, accept_sparse, accept_large_sparse, dtype, order, copy, force_all_finite, ensure_2d, allow_nd, ensure_min_samples, ensure_min_features, estimator)\u001b[0m\n\u001b[1;32m    642\u001b[0m \u001b[0;34m\u001b[0m\u001b[0m\n\u001b[1;32m    643\u001b[0m         \u001b[0;32mif\u001b[0m \u001b[0mforce_all_finite\u001b[0m\u001b[0;34m:\u001b[0m\u001b[0;34m\u001b[0m\u001b[0;34m\u001b[0m\u001b[0m\n\u001b[0;32m--> 644\u001b[0;31m             _assert_all_finite(array,\n\u001b[0m\u001b[1;32m    645\u001b[0m                                allow_nan=force_all_finite == 'allow-nan')\n\u001b[1;32m    646\u001b[0m \u001b[0;34m\u001b[0m\u001b[0m\n",
      "\u001b[0;32m~/opt/anaconda3/envs/learn-env/lib/python3.8/site-packages/sklearn/utils/validation.py\u001b[0m in \u001b[0;36m_assert_all_finite\u001b[0;34m(X, allow_nan, msg_dtype)\u001b[0m\n\u001b[1;32m     94\u001b[0m                 not allow_nan and not np.isfinite(X).all()):\n\u001b[1;32m     95\u001b[0m             \u001b[0mtype_err\u001b[0m \u001b[0;34m=\u001b[0m \u001b[0;34m'infinity'\u001b[0m \u001b[0;32mif\u001b[0m \u001b[0mallow_nan\u001b[0m \u001b[0;32melse\u001b[0m \u001b[0;34m'NaN, infinity'\u001b[0m\u001b[0;34m\u001b[0m\u001b[0;34m\u001b[0m\u001b[0m\n\u001b[0;32m---> 96\u001b[0;31m             raise ValueError(\n\u001b[0m\u001b[1;32m     97\u001b[0m                     \u001b[0mmsg_err\u001b[0m\u001b[0;34m.\u001b[0m\u001b[0mformat\u001b[0m\u001b[0;34m\u001b[0m\u001b[0;34m\u001b[0m\u001b[0m\n\u001b[1;32m     98\u001b[0m                     (type_err,\n",
      "\u001b[0;31mValueError\u001b[0m: Input contains NaN, infinity or a value too large for dtype('float64')."
     ]
    }
   ],
   "source": [
    "model.fit(X_train, y_train)"
   ]
  },
  {
   "cell_type": "code",
   "execution_count": 96,
   "metadata": {},
   "outputs": [
    {
     "ename": "AttributeError",
     "evalue": "'LinearRegression' object has no attribute 'fit_transform'",
     "output_type": "error",
     "traceback": [
      "\u001b[0;31m---------------------------------------------------------------------------\u001b[0m",
      "\u001b[0;31mAttributeError\u001b[0m                            Traceback (most recent call last)",
      "\u001b[0;32m<ipython-input-96-63a0730ed21c>\u001b[0m in \u001b[0;36m<module>\u001b[0;34m\u001b[0m\n\u001b[1;32m      3\u001b[0m \u001b[0;34m\u001b[0m\u001b[0m\n\u001b[1;32m      4\u001b[0m \u001b[0;31m# Fits the model to our training dataset\u001b[0m\u001b[0;34m\u001b[0m\u001b[0;34m\u001b[0m\u001b[0;34m\u001b[0m\u001b[0m\n\u001b[0;32m----> 5\u001b[0;31m \u001b[0mlr\u001b[0m\u001b[0;34m.\u001b[0m\u001b[0mfit_transform\u001b[0m\u001b[0;34m(\u001b[0m\u001b[0mX_train\u001b[0m\u001b[0;34m,\u001b[0m \u001b[0my_train\u001b[0m\u001b[0;34m)\u001b[0m\u001b[0;34m\u001b[0m\u001b[0;34m\u001b[0m\u001b[0m\n\u001b[0m\u001b[1;32m      6\u001b[0m \u001b[0;34m\u001b[0m\u001b[0m\n\u001b[1;32m      7\u001b[0m \u001b[0;31m# Predict price with the trained model\u001b[0m\u001b[0;34m\u001b[0m\u001b[0;34m\u001b[0m\u001b[0;34m\u001b[0m\u001b[0m\n",
      "\u001b[0;31mAttributeError\u001b[0m: 'LinearRegression' object has no attribute 'fit_transform'"
     ]
    }
   ],
   "source": [
    "# Initialize an empty regression model\n",
    "lr = LinearRegression()\n",
    "\n",
    "# Fits the model to our training dataset\n",
    "lr.fit_transform(X_train, y_train)\n",
    "\n",
    "# Predict price with the trained model\n",
    "pred_lr1 = lr.predict(X_test)\n",
    "\n",
    "# Get the coefficient of determination for training and test data\n",
    "train_score_lr1 = lr.score(X_train, y_train)\n",
    "test_score_lr1 = lr.score(X_test, y_test)"
   ]
  },
  {
   "cell_type": "code",
   "execution_count": null,
   "metadata": {},
   "outputs": [],
   "source": []
  }
 ],
 "metadata": {
  "kernelspec": {
   "display_name": "Python 3",
   "language": "python",
   "name": "python3"
  },
  "language_info": {
   "codemirror_mode": {
    "name": "ipython",
    "version": 3
   },
   "file_extension": ".py",
   "mimetype": "text/x-python",
   "name": "python",
   "nbconvert_exporter": "python",
   "pygments_lexer": "ipython3",
   "version": "3.8.5"
  }
 },
 "nbformat": 4,
 "nbformat_minor": 4
}
